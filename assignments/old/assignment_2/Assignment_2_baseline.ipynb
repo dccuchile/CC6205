{
 "cells": [
  {
   "cell_type": "markdown",
   "metadata": {
    "colab_type": "text",
    "id": "Z0tyIsliieNr"
   },
   "source": [
    "# Tarea 2 - Named Entity Recognition\n",
    "\n",
    "----------------------"
   ]
  },
  {
   "cell_type": "markdown",
   "metadata": {
    "ExecuteTime": {
     "end_time": "2020-06-22T15:21:15.416464Z",
     "start_time": "2020-06-22T15:21:15.411478Z"
    },
    "colab_type": "text",
    "id": "X3QUWWoWaSE3"
   },
   "source": [
    "- **Nombre:**\n",
    "\n",
    "- **Usuario o nombre de equipo en Codalab:** \n"
   ]
  },
  {
   "cell_type": "markdown",
   "metadata": {
    "colab_type": "text",
    "id": "W_dxGEs3iiau"
   },
   "source": [
    "\n",
    "## Introducción a la tarea\n",
    "\n",
    "### Objetivo\n",
    "\n",
    "\n",
    "El objetivo de esta tarea es resolver una de las tasks mas importantes de Sequence Labelling: [Named Entity Recognition (NER)](http://www.cs.columbia.edu/~mcollins/cs4705-spring2019/slides/tagging.pdf). \n",
    "\n",
    "En particular, deberán participar, al igual que en la tarea anterior, en una competencia en donde deberán crear distintos modelos que apunten a resolver NER en español. Para esto, les proveeremos un dataset de NER de noticias etiquetadas en español mas este baseline en donde podrán comenzar a trabajar. \n",
    "\n",
    "Esperamos que (por lo menos) utilizen Redes Neuronales Recurrentes (RNN) para resolverla. Nuevamente, hay total libertad para utilizar software y los modelos que deseen, siempre y cuando estos no traigan los modelos ya implementados (como el caso de spacy).\n",
    "\n",
    "\n",
    "**¿Qué es Sequence Labelling?** \n",
    "\n",
    "En breves palabras, dada una secuencia de tokens (frase u oración) sequence labelling tiene por objetivo asignar una etiqueta a cada token de dicha secuencia.\n",
    "\n",
    "**Named Entity Recognition (NER)**\n",
    "\n",
    "Esta tarea consiste en localizar y clasificar los tokens de una oración que representen entidades nombradas. Es decir, tokens que simbolicen (1) **personas**, (2) **organizaciones**, (3) **lugares** y (4) **adjetivos, eventos y otras entidades que no entren en las categorías anteriores** deberán ser taggeados como (1) **PER**, (2) **ORG**, (3) **LOC** y (4) **MISC** respectivamente. Adicionalmente, dado que existen entidades representadas en más de un token (como La Serena), se utiliza la notación BIO como prefijo al tag: Beginning, Inside, Outside. Es decir, si encuentro una entidad, el primer token etiquetado será precedido por B, el segundo por I y los n restantes por I. Por otra parte, si el token no representa ninguna entidad nombrada, se representa por O. Un ejemplo de esto es:\n",
    "\n",
    "Por ejemplo:\n",
    "\n",
    "```\n",
    "Felipe B-PER\n",
    "Bravo I-PER\n",
    "es O\n",
    "el O\n",
    "profesor O\n",
    "de O\n",
    "PLN B-MISC\n",
    "de O\n",
    "la O\n",
    "Universidad B-ORG\n",
    "de I-ORG\n",
    "Chile I-ORG\n",
    ". O\n",
    "```\n",
    "\n",
    "Estos links son los más indicados para comenzar:\n",
    "\n",
    "-  [Tagging, and Hidden Markov Models ](http://www.cs.columbia.edu/~mcollins/cs4705-spring2019/slides/tagging.pdf) (slides by Michael Collins), [notes](http://www.cs.columbia.edu/~mcollins/hmms-spring2013.pdf), [video 1](https://youtu.be/-ngfOZz8yK0), [video 2](https://youtu.be/PLoLKQwkONw), [video 3](https://youtu.be/aaa5Qoi8Vco), [video 4](https://youtu.be/4pKWIDkF_6Y)       \n",
    "-  [Recurrent Neural Networks](slides/NLP-RNN.pdf) | [video 1](https://youtu.be/BmhjUkzz3nk), [video 2](https://youtu.be/z43YFR1iIvk), [video 3](https://youtu.be/7L5JxQdwNJk)\n",
    "\n",
    "\n",
    "Recuerden que todo el material se encuentra disponible en el [github del curso](https://github.com/dccuchile/CC6205)."
   ]
  },
  {
   "cell_type": "markdown",
   "metadata": {
    "colab_type": "text",
    "id": "iWlfabmkaSE7"
   },
   "source": [
    "### Reglas de la tarea"
   ]
  },
  {
   "cell_type": "markdown",
   "metadata": {
    "ExecuteTime": {
     "end_time": "2020-06-22T15:33:49.808401Z",
     "start_time": "2020-06-22T15:33:49.798428Z"
    },
    "colab_type": "text",
    "id": "3w9Dw4CSaSE8"
   },
   "source": [
    "Algunos detalles de la competencia:\n",
    "\n",
    "- Para que su tarea sea evaluada, deben participar en la competencia como también, enviar este notebook con su informe.\n",
    "- Para participar, deben registrarse en la competencia en Codalab en grupos de máximo 2 alumnos. Cada grupo debe tener un nombre de equipo. (¡Y deben reportarlo en su informe!)\n",
    "- Las métricas usadas serán Precisión, Recall y F1.\n",
    "- En esta tarea se recomienda usar GPU. Pueden ejecutar su tarea en colab (lo cual trae todo instalado) o pueden intentar correrlo en su computador. en este caso, deberá ser compatible con cuda y deberán instalar todo por su cuenta.\n",
    "- En total pueden hacer un **máximo de 4 envíos**.\n",
    "- Por favor, todas sus dudas haganlas en el hilo de U-cursos de la tarea. Los emails que lleguen al equipo docente serán remitidos a ese medio. Recuerden el ánimo colaborativo del curso!!\n",
    "- Estar top 5 en alguna métrica equivale a 1 punto extra en la nota final.\n"
   ]
  },
  {
   "cell_type": "markdown",
   "metadata": {
    "colab_type": "text",
    "id": "V5BBxJWQaSE-"
   },
   "source": [
    "**Link a la competencia:  https://competitions.codalab.org/competitions/25302?secret_key=690406c7-b3b0-4092-8694-d08d7991ca94**"
   ]
  },
  {
   "cell_type": "markdown",
   "metadata": {
    "colab_type": "text",
    "id": "9spX-Hkh8YJg"
   },
   "source": [
    "### Modelos\n",
    "\n",
    "La RNN del baseline adjunto a este notebook está programado en [`pytorch`](https://pytorch.org/) y contiene:\n",
    "\n",
    "- La carga los datasets, creación de batches de texto y padding. En resumen, carga los datos y los deja listo para entrenar la red.\n",
    "- La implementación básica de una red `LSTM` simple de solo un nivel y sin bi-direccionalidad. \n",
    "- La construcción un output para que lo puedan probar en la tarea en codelab.\n",
    "\n",
    "\n",
    "\n",
    "roponer algunos experimentos a hacer:\n",
    "(cambiar el batch size, dimensiones de las capas, cambiar el tipo de\n",
    "RNN, cambiar el optimizer, usar una CRF loss, usar embeddings\n",
    "pre-entrenados, usar BERT??). Quizás podemos sugerir usar algo como\n",
    "https://github.com/flairNLP/flair\n",
    "\n",
    "Se espera que ustedes experimenten con el baseline utilizando (pero no limitándose) estas sugerencias:\n",
    "\n",
    "*   Probar Early stopping\n",
    "*   Variar la cantidad de parámetros de la capa de embeddings.\n",
    "*   Variar la cantidad de capas RNN.\n",
    "*   Variar la cantidad de parámetros de las capas de RNN.\n",
    "*   Inicializar la capa de embeddings con modelos pre-entrenados. (word2vec, glove, conceptnet, etc...).[Guía breve aquí](https://github.com/dccuchile/spanish-word-embeddings), [Embeddings en español aquí](https://github.com/dccuchile/spanish-word-embeddings).\n",
    "*   Variar la cantidad de épocas de entrenamiento.\n",
    "*   Variar el optimizador, learning rate, batch size, usar CRF loss, etc...\n",
    "*   Probar bi-direccionalidad.\n",
    "*   Probar teacher forcing.\n",
    "*   Incluir dropout.\n",
    "*   Probar modelos de tipo GRU\n",
    "*   Probar Embedding Contextuales (les puede ser de utilidad [flair](https://github.com/flairNLP/flair))\n",
    "*   Probar modelos de transformers en español usando [Huggingface](https://github.com/huggingface/transformers)"
   ]
  },
  {
   "cell_type": "markdown",
   "metadata": {
    "colab_type": "text",
    "id": "4HfZqQ-_aSFE"
   },
   "source": [
    "### Reporte\n",
    "\n",
    "Este debe cumplir la siguiente estructura:\n",
    "\n",
    "1.\t**Introducción**: Presentar brevemente el problema a resolver, los modelos utilizados en el desarrollo de la tarea y conclusiones obtenidas. (0.5 Puntos)\n",
    "\n",
    "2.\t**Modelos**: Describir brevemente los modelos, métodos y hiperparámetros utilizados. (1.0 puntos)\n",
    "\n",
    "4.\t**Métricas de evaluación**: Describir las métricas utilizadas en la evaluación indicando que miden y cuál es su interpretación en este problema en particular. (0.5 puntos)\n",
    "\n",
    "5.\t**Experimentos**: Reportar todos sus experimentos y código en esta sección. Comparar los resultados obtenidos utilizando diferentes modelos. ¡Es vital haber realizado varios experimentos para sacar una buena nota! (3.0 puntos)\n",
    "\n",
    "6.\t**Conclusiones**: Discutir resultados, proponer trabajo futuro. (1.0 punto)"
   ]
  },
  {
   "cell_type": "markdown",
   "metadata": {
    "colab_type": "text",
    "id": "fGM-hn87aSFF"
   },
   "source": [
    "(Pueden eliminar cualquier celda con instrucciones...)\n",
    "\n",
    "**Importante**: Recuerden poner su nombre y el de su usuario o de equipo (en caso de que aplique) tanto en el reporte. NO serán evaluados Notebooks sin nombre."
   ]
  },
  {
   "cell_type": "markdown",
   "metadata": {
    "colab_type": "text",
    "id": "f7X2FruyaSFG"
   },
   "source": [
    "\n",
    "-----------------------------------------"
   ]
  },
  {
   "cell_type": "markdown",
   "metadata": {
    "colab_type": "text",
    "id": "PzQlYlmGaSFH"
   },
   "source": [
    "## Introducción\n",
    "\n",
    "\n",
    "..."
   ]
  },
  {
   "cell_type": "markdown",
   "metadata": {
    "colab_type": "text",
    "id": "UbA1EmhCaSFI"
   },
   "source": [
    "## Modelos \n",
    "\n",
    "\n",
    "..."
   ]
  },
  {
   "cell_type": "markdown",
   "metadata": {
    "colab_type": "text",
    "id": "AaVhZ5iaaSFK"
   },
   "source": [
    "## Métricas de evaluación\n",
    "\n",
    "- **Precision:** ...\n",
    "- **Recall:** ...\n",
    "- **F1 score:** ..."
   ]
  },
  {
   "cell_type": "markdown",
   "metadata": {
    "ExecuteTime": {
     "end_time": "2020-06-22T15:44:52.175773Z",
     "start_time": "2020-06-22T15:44:52.172782Z"
    },
    "colab_type": "text",
    "id": "uFM-wNt8aSFM"
   },
   "source": [
    "## Experimentos\n",
    "\n",
    "\n",
    "El código que les entregaremos servirá de baseline para luego implementar mejores modelos. \n",
    "En general, el código asociado a la carga de los datos, las funciones de entrenamiento, de evaluación y la predicción de los datos de la competencia no deberían cambiar. \n",
    "Solo deben preocuparse de cambiar la arquitectura del modelo, sus hiperparámetros y reportar, lo cual lo pueden hacer en las subsecciones *modelos*.\n",
    "\n"
   ]
  },
  {
   "cell_type": "markdown",
   "metadata": {
    "colab_type": "text",
    "id": "LMgKjfYC_Go-"
   },
   "source": [
    "###  Carga de datos y Preprocesamiento\n",
    "\n",
    "Para cargar los datos y preprocesarlos usaremos la librería [`torchtext`](https://github.com/pytorch/text).\n",
    "En particular usaremos su módulo `data`, el cual según su documentación original provee: \n",
    "\n",
    "    - Ability to describe declaratively how to load a custom NLP dataset that's in a \"normal\" format\n",
    "    - Ability to define a preprocessing pipeline\n",
    "    - Batching, padding, and numericalizing (including building a vocabulary object)\n",
    "    - Wrapper for dataset splits (train, validation, test)\n",
    "\n",
    "\n",
    "El proceso será el siguiente: \n",
    "\n",
    "1. Descargar los datos desde github y examinarlos.\n",
    "2. Definir los campos (`fields`) que cargaremos desde los archivos.\n",
    "3. Cargar los datasets.\n",
    "4. Crear el vocabulario.\n",
    "\n"
   ]
  },
  {
   "cell_type": "code",
   "execution_count": null,
   "metadata": {
    "ExecuteTime": {
     "end_time": "2020-06-23T22:24:52.392908Z",
     "start_time": "2020-06-23T22:24:50.641641Z"
    },
    "colab": {
     "base_uri": "https://localhost:8080/",
     "height": 414
    },
    "colab_type": "code",
    "id": "27csY87GaSFO",
    "outputId": "fbabfb1c-3313-4413-94c1-e7189eb3c63d",
    "scrolled": false
   },
   "outputs": [],
   "source": [
    "# Instalar torchtext (en codalab) - Descomentar.\n",
    "!pip3 install --upgrade torchtext"
   ]
  },
  {
   "cell_type": "code",
   "execution_count": null,
   "metadata": {
    "ExecuteTime": {
     "end_time": "2020-06-23T22:24:53.086354Z",
     "start_time": "2020-06-23T22:24:52.394902Z"
    },
    "colab": {},
    "colab_type": "code",
    "id": "ng7wRGEyawjM"
   },
   "outputs": [],
   "source": [
    "import torch\n",
    "from torchtext import data, datasets\n",
    "\n",
    "\n",
    "# Garantizar reproducibilidad \n",
    "SEED = 1234\n",
    "torch.manual_seed(SEED)\n",
    "torch.backends.cudnn.deterministic = True"
   ]
  },
  {
   "cell_type": "markdown",
   "metadata": {
    "colab_type": "text",
    "id": "BehSou6rCvwg"
   },
   "source": [
    "#### Obtener datos\n",
    "\n",
    "Descargamos los datos de entrenamiento, validación y prueba en nuestro directorio de trabajo"
   ]
  },
  {
   "cell_type": "code",
   "execution_count": null,
   "metadata": {
    "ExecuteTime": {
     "end_time": "2020-06-23T22:25:49.789218Z",
     "start_time": "2020-06-23T22:24:53.088871Z"
    },
    "colab": {},
    "colab_type": "code",
    "id": "lbT0g_kC18Jb"
   },
   "outputs": [],
   "source": [
    "%%capture\n",
    "!wget https://github.com/dccuchile/CC6205/releases/download/Data/train_NER_esp.txt -nc # Dataset de Entrenamiento\n",
    "!wget https://github.com/dccuchile/CC6205/releases/download/Data/val_NER_esp.txt -nc    # Dataset de Validación (Para probar y ajustar el modelo)\n",
    "!wget https://github.com/dccuchile/CC6205/releases/download/Data/test_NER_esp.txt -nc  # Dataset de la Competencia. Estos datos solo contienen los tokens. ¡¡SON LOS QUE DEBEN SER PREDICHOS!!"
   ]
  },
  {
   "cell_type": "markdown",
   "metadata": {
    "colab_type": "text",
    "id": "uMud7YGMBZvg"
   },
   "source": [
    "####  Fields\n",
    "\n",
    "Un `field`:\n",
    "\n",
    "* Define un tipo de datos junto con instrucciones para convertir el texto a Tensor.\n",
    "* Contiene un objeto `Vocab` que contiene el vocabulario (palabras posibles que puede tomar ese campo).\n",
    "* Contiene otros parámetros relacionados con la forma en que se debe numericalizar un tipo de datos, como un método de tokenización y el tipo de Tensor que se debe producir.\n",
    "\n",
    "\n",
    "Analizemos el siguiente cuadro el cual contiene un ejemplo cualquiera de entrenamiento:\n",
    "\n",
    "\n",
    "```\n",
    "El O\n",
    "Abogado B-PER\n",
    "General I-PER\n",
    "del I-PER\n",
    "Estado I-PER\n",
    ", O\n",
    "Daryl B-PER\n",
    "Williams I-PER\n",
    "```\n",
    "\n",
    "Cada linea contiene una palabra y su clase. Para que `torchtext` pueda cargar estos datos, debemos definir como va a leer y separar los componentes de cada una de las lineas.\n",
    "Para esto, definiremos un field para cada uno de esos componentes: Las palabras (`TEXT`) y los NER_TAGS (`clase`).\n"
   ]
  },
  {
   "cell_type": "code",
   "execution_count": null,
   "metadata": {
    "ExecuteTime": {
     "end_time": "2020-06-23T22:25:49.795126Z",
     "start_time": "2020-06-23T22:25:49.791108Z"
    },
    "colab": {},
    "colab_type": "code",
    "id": "3DcM_IjgCdzz"
   },
   "outputs": [],
   "source": [
    "# Primer Field: TEXT. Representan los tokens de la secuencia\n",
    "TEXT = data.Field(lower=False) \n",
    "\n",
    "# Segundo Field: NER_TAGS. Representan los Tags asociados a cada palabra.\n",
    "NER_TAGS = data.Field(unk_token=None)\n",
    "\n",
    "fields = ((\"text\", TEXT), (\"nertags\", NER_TAGS))"
   ]
  },
  {
   "cell_type": "markdown",
   "metadata": {
    "colab_type": "text",
    "id": "xCKTJOdgC5eC"
   },
   "source": [
    "####  SequenceTaggingDataset\n",
    "\n",
    "`SequenceTaggingDataset` es una clase de torchtext diseñada para contener datasets de sequence labelling. \n",
    "Los ejemplos que se guarden en una instancia de estos serán arreglos de palabras pareados con sus respectivos tags.\n",
    "Por ejemplo, para Part-of-speech tagging:\n",
    "\n",
    "[I, love, PyTorch, .] estará pareado con [PRON, VERB, PROPN, PUNCT]\n",
    "\n",
    "\n",
    "La idea es que usando los fields que definimos antes, le indiquemos a la clase cómo cargar los datasets de prueba, validación y test."
   ]
  },
  {
   "cell_type": "code",
   "execution_count": null,
   "metadata": {
    "ExecuteTime": {
     "end_time": "2020-06-23T22:25:50.294370Z",
     "start_time": "2020-06-23T22:25:49.797092Z"
    },
    "colab": {},
    "colab_type": "code",
    "id": "HsHdGml62J21"
   },
   "outputs": [],
   "source": [
    "train_data, valid_data, test_data = datasets.SequenceTaggingDataset.splits(\n",
    "    path=\"./\",\n",
    "    train=\"train_NER_esp.txt\",\n",
    "    validation=\"val_NER_esp.txt\",\n",
    "    test=\"test_NER_esp.txt\",\n",
    "    fields=fields,\n",
    "    encoding=\"iso-8859-1\",\n",
    "    separator=\" \"\n",
    ")"
   ]
  },
  {
   "cell_type": "code",
   "execution_count": null,
   "metadata": {
    "ExecuteTime": {
     "end_time": "2020-06-23T22:25:50.301354Z",
     "start_time": "2020-06-23T22:25:50.296368Z"
    },
    "colab": {
     "base_uri": "https://localhost:8080/",
     "height": 71
    },
    "colab_type": "code",
    "id": "Hu7q3HCliia5",
    "outputId": "bd35465b-2204-47b6-bbe9-4062e0057246"
   },
   "outputs": [],
   "source": [
    "print(f\"Numero de ejemplos de entrenamiento: {len(train_data)}\")\n",
    "print(f\"Número de ejemplos de validación: {len(valid_data)}\")\n",
    "print(f\"Número de ejemplos de test (competencia): {len(test_data)}\")"
   ]
  },
  {
   "cell_type": "markdown",
   "metadata": {
    "colab_type": "text",
    "id": "fDRnhXAdFGL-"
   },
   "source": [
    "Visualizemos un ejemplo"
   ]
  },
  {
   "cell_type": "code",
   "execution_count": null,
   "metadata": {
    "ExecuteTime": {
     "end_time": "2020-06-23T22:25:50.317313Z",
     "start_time": "2020-06-23T22:25:50.303361Z"
    },
    "colab": {
     "base_uri": "https://localhost:8080/",
     "height": 304
    },
    "colab_type": "code",
    "id": "T023Ld4RaSF4",
    "outputId": "b58559e0-bd4f-465e-9203-a472824dae58",
    "scrolled": false
   },
   "outputs": [],
   "source": [
    "import random\n",
    "random_item_idx = random.randint(0, len(train_data))\n",
    "random_example = train_data.examples[random_item_idx]\n",
    "list(zip(random_example.text, random_example.nertags))"
   ]
  },
  {
   "cell_type": "markdown",
   "metadata": {
    "colab_type": "text",
    "id": "2l05KYy5FSUy"
   },
   "source": [
    "#### Construir los vocabularios para el texto y las etiquetas\n",
    "\n",
    "Los vocabularios son los obbjetos que contienen todos los tokens (de entrenamiento) posibles para ambos fields.\n",
    "El siguiente paso consiste en construirlos. Para esto, hacemos uso del método `Field.build_vocab` sobre cada uno de nuestros `fields`. "
   ]
  },
  {
   "cell_type": "code",
   "execution_count": null,
   "metadata": {
    "ExecuteTime": {
     "end_time": "2020-06-23T22:25:50.445968Z",
     "start_time": "2020-06-23T22:25:50.320305Z"
    },
    "colab": {},
    "colab_type": "code",
    "id": "PBhp7WICiibL"
   },
   "outputs": [],
   "source": [
    "TEXT.build_vocab(train_data)\n",
    "NER_TAGS.build_vocab(train_data)"
   ]
  },
  {
   "cell_type": "code",
   "execution_count": null,
   "metadata": {
    "ExecuteTime": {
     "end_time": "2020-06-23T22:25:50.453960Z",
     "start_time": "2020-06-23T22:25:50.448987Z"
    },
    "colab": {
     "base_uri": "https://localhost:8080/",
     "height": 53
    },
    "colab_type": "code",
    "id": "M4OgUKM_iibO",
    "outputId": "92495189-efa7-4a4f-db55-7a1d978f94db",
    "scrolled": true
   },
   "outputs": [],
   "source": [
    "print(f\"Tokens únicos en TEXT: {len(TEXT.vocab)}\")\n",
    "print(f\"Tokens únicos en NER_TAGS: {len(NER_TAGS.vocab)}\")"
   ]
  },
  {
   "cell_type": "code",
   "execution_count": null,
   "metadata": {
    "ExecuteTime": {
     "end_time": "2020-06-23T22:25:50.460965Z",
     "start_time": "2020-06-23T22:25:50.455942Z"
    },
    "colab": {
     "base_uri": "https://localhost:8080/",
     "height": 35
    },
    "colab_type": "code",
    "id": "d4FeyL9nFnId",
    "outputId": "67e275ee-ff64-40c7-ec49-fbef610a08e3"
   },
   "outputs": [],
   "source": [
    "#Veamos las posibles etiquetas que hemos cargado:\n",
    "NER_TAGS.vocab.itos"
   ]
  },
  {
   "cell_type": "markdown",
   "metadata": {
    "colab_type": "text",
    "id": "HYQDoUqSHFKj"
   },
   "source": [
    "Observen que ademas de los tags NER, tenemos \\<pad\\>, el cual es generado por el dataloader para cumplir con el padding de cada oración.\n",
    "\n",
    "Veamos ahora los tokens mas frecuentes y especiales:"
   ]
  },
  {
   "cell_type": "code",
   "execution_count": null,
   "metadata": {
    "ExecuteTime": {
     "end_time": "2020-06-23T22:25:50.473893Z",
     "start_time": "2020-06-23T22:25:50.462923Z"
    },
    "colab": {
     "base_uri": "https://localhost:8080/",
     "height": 55
    },
    "colab_type": "code",
    "id": "m5eSLm4diibR",
    "outputId": "77ac625f-b546-4900-bf69-9129fb9f5d87"
   },
   "outputs": [],
   "source": [
    "# Tokens mas frecuentes\n",
    "TEXT.vocab.freqs.most_common(10)"
   ]
  },
  {
   "cell_type": "code",
   "execution_count": null,
   "metadata": {
    "ExecuteTime": {
     "end_time": "2020-06-23T22:25:50.479897Z",
     "start_time": "2020-06-23T22:25:50.475889Z"
    }
   },
   "outputs": [],
   "source": [
    "# Seteamos algunas variables que nos serán de utilidad mas adelante...\n",
    "UNK_IDX = TEXT.vocab.stoi[TEXT.unk_token]\n",
    "PAD_IDX = TEXT.vocab.stoi[TEXT.pad_token]\n",
    "\n",
    "PAD_TAG_IDX = NER_TAGS.vocab.stoi[NER_TAGS.pad_token]\n",
    "O_TAG_IDX = NER_TAGS.vocab.stoi['O']"
   ]
  },
  {
   "cell_type": "markdown",
   "metadata": {
    "colab_type": "text",
    "id": "qrYvF3X0sjWL"
   },
   "source": [
    "#### Frecuencia de los Tags\n",
    "\n",
    "Visualizemos rápidamente las cantidades y frecuencias de cada tag:"
   ]
  },
  {
   "cell_type": "code",
   "execution_count": null,
   "metadata": {
    "ExecuteTime": {
     "end_time": "2020-06-23T22:25:50.490885Z",
     "start_time": "2020-06-23T22:25:50.481873Z"
    },
    "colab": {
     "base_uri": "https://localhost:8080/",
     "height": 215
    },
    "colab_type": "code",
    "id": "tuXOsbJUiibh",
    "outputId": "2197d6eb-cd20-4552-f8a5-74ce75c47274"
   },
   "outputs": [],
   "source": [
    "def tag_percentage(tag_counts):\n",
    "    \n",
    "    total_count = sum([count for tag, count in tag_counts])\n",
    "    tag_counts_percentages = [(tag, count, count/total_count) for tag, count in tag_counts]\n",
    "  \n",
    "    return tag_counts_percentages\n",
    "\n",
    "print(\"Tag Ocurrencia Porcentaje\\n\")\n",
    "\n",
    "for tag, count, percent in tag_percentage(NER_TAGS.vocab.freqs.most_common()):\n",
    "    print(f\"{tag}\\t{count}\\t{percent*100:4.1f}%\")"
   ]
  },
  {
   "cell_type": "markdown",
   "metadata": {
    "ExecuteTime": {
     "end_time": "2020-06-22T21:44:17.730460Z",
     "start_time": "2020-06-22T21:44:17.724482Z"
    },
    "colab_type": "text",
    "id": "y4wPiydnaSGs"
   },
   "source": [
    "#### Configuramos pytorch y dividimos los datos.\n",
    "\n",
    "Importante: si tienes problemas con la ram de la gpu, disminuye el tamaño de los batches"
   ]
  },
  {
   "cell_type": "code",
   "execution_count": null,
   "metadata": {
    "ExecuteTime": {
     "end_time": "2020-06-23T22:25:51.101455Z",
     "start_time": "2020-06-23T22:25:50.492843Z"
    },
    "colab": {
     "base_uri": "https://localhost:8080/",
     "height": 35
    },
    "colab_type": "code",
    "id": "uB7cwLWpaSGs",
    "outputId": "b626c3e3-720c-4bf7-b631-0ade7a105749"
   },
   "outputs": [],
   "source": [
    "BATCH_SIZE = 16  # disminuir si hay problemas de ram.\n",
    "\n",
    "# Usar cuda si es que está disponible.\n",
    "device = torch.device('cuda' if torch.cuda.is_available() else 'cpu')\n",
    "print('Using', device)\n",
    "\n",
    "# Dividir datos entre entrenamiento y test\n",
    "train_iterator, valid_iterator, test_iterator = data.BucketIterator.splits(\n",
    "    (train_data, valid_data, test_data),\n",
    "    batch_size=BATCH_SIZE,\n",
    "    device=device,\n",
    "    sort=False,\n",
    ")"
   ]
  },
  {
   "cell_type": "markdown",
   "metadata": {
    "colab_type": "text",
    "id": "B21E1eAFId16"
   },
   "source": [
    "#### Métricas de evaluación\n",
    "\n",
    "Además, definiremos las métricas que serán usadas tanto para la competencia como para evaluar el modelo: `precision`, `recall` y `f1`.\n",
    "**Importante**: Noten que la evaluación solo se hace para las Named Entities (sin contar 'O')."
   ]
  },
  {
   "cell_type": "code",
   "execution_count": null,
   "metadata": {
    "ExecuteTime": {
     "end_time": "2020-06-23T22:25:51.654826Z",
     "start_time": "2020-06-23T22:25:51.103450Z"
    },
    "colab": {},
    "colab_type": "code",
    "id": "9mUOOLEWiicU"
   },
   "outputs": [],
   "source": [
    "# Definimos las métricas\n",
    "\n",
    "from sklearn.metrics import f1_score, precision_score, recall_score\n",
    "import warnings\n",
    "import sklearn.exceptions\n",
    "warnings.filterwarnings(\"ignore\",\n",
    "                        category=sklearn.exceptions.UndefinedMetricWarning)\n",
    "\n",
    "\n",
    "def calculate_metrics(preds, y_true, pad_idx=PAD_TAG_IDX, o_idx=O_TAG_IDX):\n",
    "    \"\"\"\n",
    "    Calcula precision, recall y f1 de cada batch.\n",
    "    \"\"\"\n",
    "\n",
    "    # Obtener el indice de la clase con probabilidad mayor. (clases)\n",
    "    y_pred = preds.argmax(dim=1, keepdim=True)\n",
    "    # Obtenemos los indices distintos de 0.\n",
    "\n",
    "    # filtramos <pad> y O para calcular los scores.\n",
    "    mask = [(y_true != o_idx) & (y_true != pad_idx)]\n",
    "    y_pred = y_pred[mask]\n",
    "    y_true = y_true[mask]\n",
    "\n",
    "    # traemos a la cpu\n",
    "    y_pred = y_pred.view(-1).to('cpu')\n",
    "    y_true = y_true.to('cpu')\n",
    "    \n",
    "    # calcular scores\n",
    "    f1 = f1_score(y_true, y_pred, average='macro')\n",
    "    precision = precision_score(y_true, y_pred, average='macro')\n",
    "    recall = recall_score(y_true, y_pred, average='macro')\n",
    "\n",
    "    return precision, recall, f1"
   ]
  },
  {
   "cell_type": "markdown",
   "metadata": {
    "colab_type": "text",
    "id": "Hod516H1aSG2"
   },
   "source": [
    "-------------------\n",
    "\n",
    "### Modelo Baseline\n",
    "\n",
    "Teniendo ya cargado los datos, toca definir nuestro modelo. Este baseline tendrá una capa de embedding, unas cuantas LSTM y una capa de salida y usará dropout en el entrenamiento.\n",
    "\n",
    "Este constará de los siguientes pasos: \n",
    "\n",
    "1. Definir la clase que contendrá la red.\n",
    "2. Definir los hiperparámetros e inicializar la red. \n",
    "3. Definir la época de entrenamiento\n",
    "3. Definir la función de loss.\n",
    "\n",
    "\n",
    "\n",
    "Recomendamos que para experimentar, encapsules los modelos en una sola variable y luego la fijes en model para entrenarla"
   ]
  },
  {
   "cell_type": "code",
   "execution_count": null,
   "metadata": {
    "ExecuteTime": {
     "end_time": "2020-06-23T22:25:51.666751Z",
     "start_time": "2020-06-23T22:25:51.656778Z"
    },
    "colab": {},
    "colab_type": "code",
    "id": "rMPL08XqaSG3"
   },
   "outputs": [],
   "source": [
    "import torch.nn as nn\n",
    "import torch.nn.functional as F\n",
    "import torch.optim as optim\n",
    "\n",
    "\n",
    "# Definir la red\n",
    "class NER_RNN(nn.Module):\n",
    "    def __init__(self, \n",
    "                 input_dim, \n",
    "                 embedding_dim, \n",
    "                 hidden_dim, \n",
    "                 output_dim,\n",
    "                 n_layers, \n",
    "                 bidirectional, \n",
    "                 dropout, \n",
    "                 pad_idx):\n",
    "\n",
    "        super().__init__()\n",
    "\n",
    "        # Capa de embedding\n",
    "        self.embedding = nn.Embedding(input_dim,\n",
    "                                      embedding_dim,\n",
    "                                      padding_idx=pad_idx)\n",
    "\n",
    "        # Capa LSTM\n",
    "        self.lstm = nn.LSTM(embedding_dim,\n",
    "                           hidden_dim,\n",
    "                           num_layers=n_layers,\n",
    "                           bidirectional=bidirectional, \n",
    "                           dropout = dropout if n_layers > 1 else 0)\n",
    "\n",
    "        # Capa de salida\n",
    "        self.fc = nn.Linear(hidden_dim * 2 if bidirectional else hidden_dim,\n",
    "                            output_dim)\n",
    "\n",
    "        # Dropout\n",
    "        self.dropout = nn.Dropout(dropout)\n",
    "\n",
    "    def forward(self, text):\n",
    "\n",
    "        #text = [sent len, batch size]\n",
    "\n",
    "        # Convertir lo enviado a embedding\n",
    "        embedded = self.dropout(self.embedding(text))\n",
    "        \n",
    "        outputs, (hidden, cell) = self.lstm(embedded)\n",
    "        #embedded = [sent len, batch size, emb dim]\n",
    "\n",
    "        # Pasar los embeddings por la rnn (LSTM)\n",
    "\n",
    "        #output = [sent len, batch size, hid dim * n directions]\n",
    "        #hidden/cell = [n layers * n directions, batch size, hid dim]\n",
    "\n",
    "        # Predecir usando la capa de salida.\n",
    "        predictions = self.fc(self.dropout(outputs))\n",
    "        #predictions = [sent len, batch size, output dim]\n",
    "\n",
    "        return predictions"
   ]
  },
  {
   "cell_type": "markdown",
   "metadata": {
    "ExecuteTime": {
     "end_time": "2020-06-22T21:43:02.333880Z",
     "start_time": "2020-06-22T21:43:02.329861Z"
    },
    "colab_type": "text",
    "id": "cCl3530VaSG7"
   },
   "source": [
    "#### Hiperparámetros de la red\n",
    "\n",
    "Definimos los hiperparámetros. "
   ]
  },
  {
   "cell_type": "code",
   "execution_count": null,
   "metadata": {
    "ExecuteTime": {
     "end_time": "2020-06-23T22:25:51.705684Z",
     "start_time": "2020-06-23T22:25:51.668746Z"
    },
    "colab": {},
    "colab_type": "code",
    "id": "EHdi3QdOaSG8"
   },
   "outputs": [],
   "source": [
    "# tamaño del vocabulario. recuerden que la entrada son vectores bag of word(one-hot).\n",
    "INPUT_DIM = len(TEXT.vocab)\n",
    "EMBEDDING_DIM = 100  # dimensión de los embeddings.\n",
    "HIDDEN_DIM = 128  # dimensión de la capas LSTM\n",
    "OUTPUT_DIM = len(NER_TAGS.vocab)  # número de clases\n",
    "\n",
    "N_LAYERS = 2  # número de capas.\n",
    "DROPOUT = 0.25\n",
    "BIDIRECTIONAL = False\n",
    "\n",
    "# Creamos nuestro modelo.\n",
    "baseline_model = NER_RNN(INPUT_DIM, EMBEDDING_DIM, HIDDEN_DIM, OUTPUT_DIM,\n",
    "                         N_LAYERS, BIDIRECTIONAL, DROPOUT, PAD_IDX)\n",
    "\n",
    "baseline_model_name = 'baseline'  # nombre que tendrá el modelo guardado..."
   ]
  },
  {
   "cell_type": "code",
   "execution_count": null,
   "metadata": {
    "ExecuteTime": {
     "end_time": "2020-06-23T22:25:51.710633Z",
     "start_time": "2020-06-23T22:25:51.706649Z"
    },
    "colab": {},
    "colab_type": "code",
    "id": "jlF1DhJeaSHA"
   },
   "outputs": [],
   "source": [
    "baseline_n_epochs = 10"
   ]
  },
  {
   "cell_type": "markdown",
   "metadata": {
    "colab_type": "text",
    "id": "s3u4imJGaSHE"
   },
   "source": [
    "#### Definimos la función de loss"
   ]
  },
  {
   "cell_type": "code",
   "execution_count": null,
   "metadata": {
    "ExecuteTime": {
     "end_time": "2020-06-23T22:25:51.715637Z",
     "start_time": "2020-06-23T22:25:51.712628Z"
    },
    "colab": {},
    "colab_type": "code",
    "id": "6G_4k99_aSHG"
   },
   "outputs": [],
   "source": [
    "# Loss: Cross Entropy\n",
    "TAG_PAD_IDX = NER_TAGS.vocab.stoi[NER_TAGS.pad_token]\n",
    "baseline_criterion = nn.CrossEntropyLoss(ignore_index = TAG_PAD_IDX)"
   ]
  },
  {
   "cell_type": "markdown",
   "metadata": {
    "colab_type": "text",
    "id": "lRYOEDiQaSHK"
   },
   "source": [
    "--------------------\n",
    "### Modelo 1\n",
    "\n",
    "En estas secciones pueden implementar nuevas redes al modificar los hiperparámetros, la cantidad de épocas de entrenamiento, el tamaño de los batches, loss, optimizador, etc... como también definir nuevas arquitecturas de red (mediante la creación de clases nuevas)\n",
    "\n",
    "\n",
    "Al final de estas, hay 4 variables, las cuales deben setear con los modelos, épocas de entrenamiento, loss y optimizador que deseen probar.\n"
   ]
  },
  {
   "cell_type": "code",
   "execution_count": null,
   "metadata": {
    "ExecuteTime": {
     "end_time": "2020-06-23T22:25:51.722604Z",
     "start_time": "2020-06-23T22:25:51.717615Z"
    },
    "colab": {},
    "colab_type": "code",
    "id": "c81f8ki5aSHL"
   },
   "outputs": [],
   "source": [
    "# model_1 = ...\n",
    "# model_name_1 = ...\n",
    "# n_epochs_1 = ...\n",
    "# loss_1 = ..."
   ]
  },
  {
   "cell_type": "markdown",
   "metadata": {
    "colab_type": "text",
    "id": "rV9oLkN1aSHO"
   },
   "source": [
    "---------------\n",
    "\n",
    "### Modelo 2"
   ]
  },
  {
   "cell_type": "code",
   "execution_count": null,
   "metadata": {
    "ExecuteTime": {
     "end_time": "2020-06-23T22:25:51.728587Z",
     "start_time": "2020-06-23T22:25:51.724596Z"
    },
    "colab": {},
    "colab_type": "code",
    "id": "KWPzETaNaSHP"
   },
   "outputs": [],
   "source": [
    "# model_2 = ...\n",
    "# model_name_2 = ...\n",
    "# n_epochs_2 = ...\n",
    "# loss_2 = ..."
   ]
  },
  {
   "cell_type": "markdown",
   "metadata": {
    "ExecuteTime": {
     "end_time": "2020-06-22T16:07:45.755561Z",
     "start_time": "2020-06-22T16:07:45.751571Z"
    },
    "colab_type": "text",
    "id": "Zpy3p7YaaSHT"
   },
   "source": [
    "---------------\n",
    "\n",
    "\n",
    "### Modelo 3"
   ]
  },
  {
   "cell_type": "code",
   "execution_count": null,
   "metadata": {
    "ExecuteTime": {
     "end_time": "2020-06-23T22:25:51.733572Z",
     "start_time": "2020-06-23T22:25:51.730580Z"
    },
    "colab": {},
    "colab_type": "code",
    "id": "_w0CFjA8aSHU"
   },
   "outputs": [],
   "source": [
    "# modelo_3 = ...\n",
    "# model_name_3 = ...\n",
    "# n_epochs_3 = ...\n",
    "# loss_3 = ..."
   ]
  },
  {
   "cell_type": "markdown",
   "metadata": {
    "colab_type": "text",
    "id": "aPGdirx7aSHZ"
   },
   "source": [
    "------\n",
    "### Entrenamos y evaluamos\n",
    "\n",
    "\n",
    "**Importante** : Fijen el modelo, el número de épocas de entrenamiento, la loss y el optimizador que usarán para entrenar y evaluar en las siguientes variables!!!"
   ]
  },
  {
   "cell_type": "code",
   "execution_count": null,
   "metadata": {
    "ExecuteTime": {
     "end_time": "2020-06-23T22:25:51.748571Z",
     "start_time": "2020-06-23T22:25:51.739556Z"
    },
    "colab": {},
    "colab_type": "code",
    "id": "r8YlGnjxaSHZ"
   },
   "outputs": [],
   "source": [
    "model = baseline_model\n",
    "model_name = baseline_model_name\n",
    "criterion = baseline_criterion\n",
    "n_epochs = baseline_n_epochs"
   ]
  },
  {
   "cell_type": "markdown",
   "metadata": {
    "colab_type": "text",
    "id": "Pu_lXic2aSHd"
   },
   "source": [
    "\n",
    "\n",
    "#### Inicializamos la red\n",
    "\n",
    "iniciamos los pesos de la red de forma aleatoria (Usando una distribución normal).\n"
   ]
  },
  {
   "cell_type": "code",
   "execution_count": null,
   "metadata": {
    "ExecuteTime": {
     "end_time": "2020-06-23T22:25:51.805380Z",
     "start_time": "2020-06-23T22:25:51.751524Z"
    },
    "colab": {
     "base_uri": "https://localhost:8080/",
     "height": 121
    },
    "colab_type": "code",
    "id": "Q-G_NWFcaSHe",
    "outputId": "3322c999-5b70-437e-eea3-4662339a0146"
   },
   "outputs": [],
   "source": [
    "def init_weights(m):\n",
    "    # Inicializamos los pesos como aleatorios\n",
    "    for name, param in m.named_parameters():\n",
    "        nn.init.normal_(param.data, mean=0, std=0.1) \n",
    "        \n",
    "    # Seteamos como 0 los embeddings de UNK y PAD.\n",
    "    model.embedding.weight.data[UNK_IDX] = torch.zeros(EMBEDDING_DIM)\n",
    "    model.embedding.weight.data[PAD_IDX] = torch.zeros(EMBEDDING_DIM)\n",
    "        \n",
    "model.apply(init_weights)"
   ]
  },
  {
   "cell_type": "code",
   "execution_count": null,
   "metadata": {
    "ExecuteTime": {
     "end_time": "2020-06-23T22:25:51.812389Z",
     "start_time": "2020-06-23T22:25:51.806377Z"
    },
    "colab": {
     "base_uri": "https://localhost:8080/",
     "height": 34
    },
    "colab_type": "code",
    "id": "mjWDX2CJaSHh",
    "outputId": "6a2bcb1d-37a1-4ee9-85ee-dc723959be27"
   },
   "outputs": [],
   "source": [
    "def count_parameters(model):\n",
    "    return sum(p.numel() for p in model.parameters() if p.requires_grad)\n",
    "print(f'El modelo actual tiene {count_parameters(model):,} parámetros entrenables.')"
   ]
  },
  {
   "cell_type": "markdown",
   "metadata": {
    "colab_type": "text",
    "id": "UVqBqerlaSHk"
   },
   "source": [
    "Por último, definimos los embeddings que representan a \\<unk\\> y \\<pad\\>  como [0, 0, ..., 0]"
   ]
  },
  {
   "cell_type": "markdown",
   "metadata": {
    "colab_type": "text",
    "id": "rVZvHtwpaSHq"
   },
   "source": [
    "#### Definimos el optimizador"
   ]
  },
  {
   "cell_type": "code",
   "execution_count": null,
   "metadata": {
    "ExecuteTime": {
     "end_time": "2020-06-23T22:25:51.819370Z",
     "start_time": "2020-06-23T22:25:51.814357Z"
    },
    "colab": {},
    "colab_type": "code",
    "id": "AH6o8_cTaSHq"
   },
   "outputs": [],
   "source": [
    "# Optimizador\n",
    "optimizer = optim.Adam(model.parameters())"
   ]
  },
  {
   "cell_type": "markdown",
   "metadata": {
    "colab_type": "text",
    "id": "Fz39wa78wGYR"
   },
   "source": [
    "#### Enviamos el modelo a cuda\n"
   ]
  },
  {
   "cell_type": "code",
   "execution_count": null,
   "metadata": {
    "ExecuteTime": {
     "end_time": "2020-06-23T22:25:54.503226Z",
     "start_time": "2020-06-23T22:25:51.821338Z"
    },
    "colab": {},
    "colab_type": "code",
    "id": "dqr0AJ6_iicR"
   },
   "outputs": [],
   "source": [
    "# Enviamos el modelo y la loss a cuda (en el caso en que esté disponible)\n",
    "model = model.to(device)\n",
    "criterion = criterion.to(device)"
   ]
  },
  {
   "cell_type": "markdown",
   "metadata": {
    "colab_type": "text",
    "id": "8xlq48WjiW6U"
   },
   "source": [
    "#### Definimos el entrenamiento de la red\n",
    "\n",
    "Algunos conceptos previos: \n",
    "\n",
    "- `epoch` : una pasada de entrenamiento completa de una dataset.\n",
    "- `batch`: una fracción de la época. Se utilizan para entrenar mas rápidamente la red. (mas eficiente pasar n datos que uno en cada ejecución del backpropagation)\n",
    "\n",
    "Esta función está encargada de entrenar la red en una época. Para esto, por cada batch de la época actual, predice los tags del texto, calcula su loss y luego hace backpropagation para actualizar los pesos de la red.\"\n",
    "\n",
    "Observación: En algunos comentarios aparecerá el tamaño de los tensores entre corchetes"
   ]
  },
  {
   "cell_type": "code",
   "execution_count": null,
   "metadata": {
    "ExecuteTime": {
     "end_time": "2020-06-23T22:25:54.515194Z",
     "start_time": "2020-06-23T22:25:54.505221Z"
    },
    "colab": {},
    "colab_type": "code",
    "id": "DV6YLt0oiicW"
   },
   "outputs": [],
   "source": [
    "def train(model, iterator, optimizer, criterion):\n",
    "\n",
    "    epoch_loss = 0\n",
    "    epoch_precision = 0\n",
    "    epoch_recall = 0\n",
    "    epoch_f1 = 0\n",
    "\n",
    "    model.train()\n",
    "\n",
    "    # Por cada batch del iterador de la época:\n",
    "    for batch in iterator:\n",
    "\n",
    "        # Extraemos el texto y los tags del batch que estamos procesado\n",
    "        text = batch.text\n",
    "        tags = batch.nertags\n",
    "\n",
    "        # Reiniciamos los gradientes calculados en la iteración anterior\n",
    "        optimizer.zero_grad()\n",
    "\n",
    "        #text = [sent len, batch size]\n",
    "\n",
    "        # Predecimos los tags del texto del batch.\n",
    "        predictions = model(text)\n",
    "\n",
    "        #predictions = [sent len, batch size, output dim]\n",
    "        #tags = [sent len, batch size]\n",
    "\n",
    "        # Reordenamos los datos para calcular la loss\n",
    "        predictions = predictions.view(-1, predictions.shape[-1])\n",
    "        tags = tags.view(-1)\n",
    "\n",
    "        #predictions = [sent len * batch size, output dim]\n",
    "        #tags = [sent len * batch size]\n",
    "\n",
    "        # Calculamos el Cross Entropy de las predicciones con respecto a las etiquetas reales\n",
    "        loss = criterion(predictions, tags)\n",
    "        \n",
    "        # Calculamos el accuracy\n",
    "        precision, recall, f1 = calculate_metrics(predictions, tags)\n",
    "\n",
    "        # Calculamos los gradientes\n",
    "        loss.backward()\n",
    "\n",
    "        # Actualizamos los parámetros de la red\n",
    "        optimizer.step()\n",
    "\n",
    "        # Actualizamos el loss y las métricas\n",
    "        epoch_loss += loss.item()\n",
    "        epoch_precision += precision\n",
    "        epoch_recall += recall\n",
    "        epoch_f1 += f1\n",
    "\n",
    "    return epoch_loss / len(iterator), epoch_precision / len(\n",
    "        iterator), epoch_recall / len(iterator), epoch_f1 / len(iterator)"
   ]
  },
  {
   "cell_type": "markdown",
   "metadata": {
    "colab_type": "text",
    "id": "PYNcwKnAz5Hf"
   },
   "source": [
    "#### `Definimos la función de evaluación`\n",
    "\n",
    "Evalua el rendimiento actual de la red usando los datos de validación. \n",
    "\n",
    "Por cada batch de estos datos, calcula y reporta el loss y las métricas asociadas al conjunto de validación. \n",
    "Ya que las métricas son calculadas por cada batch, estas son retornadas promediadas por el número de batches entregados. (ver linea del return)"
   ]
  },
  {
   "cell_type": "code",
   "execution_count": null,
   "metadata": {
    "ExecuteTime": {
     "end_time": "2020-06-23T22:25:54.527162Z",
     "start_time": "2020-06-23T22:25:54.518186Z"
    },
    "colab": {},
    "colab_type": "code",
    "id": "WsRuiUuHiicY"
   },
   "outputs": [],
   "source": [
    "def evaluate(model, iterator, criterion):\n",
    "\n",
    "    epoch_loss = 0\n",
    "    epoch_precision = 0\n",
    "    epoch_recall = 0\n",
    "    epoch_f1 = 0\n",
    "\n",
    "    model.eval()\n",
    "\n",
    "    # Indicamos que ahora no guardaremos los gradientes\n",
    "    with torch.no_grad():\n",
    "        # Por cada batch\n",
    "        for batch in iterator:\n",
    "\n",
    "            text = batch.text\n",
    "            tags = batch.nertags\n",
    "\n",
    "            # Predecimos\n",
    "            predictions = model(text)\n",
    "\n",
    "            predictions = predictions.view(-1, predictions.shape[-1])\n",
    "            tags = tags.view(-1)\n",
    "\n",
    "            # Calculamos el Cross Entropy de las predicciones con respecto a las etiquetas reales\n",
    "            loss = criterion(predictions, tags)\n",
    "\n",
    "            # Calculamos las métricas\n",
    "            precision, recall, f1 = calculate_metrics(predictions, tags)\n",
    "\n",
    "            # Actualizamos el loss y las métricas\n",
    "            epoch_loss += loss.item()\n",
    "            epoch_precision += precision\n",
    "            epoch_recall += recall\n",
    "            epoch_f1 += f1\n",
    "\n",
    "    return epoch_loss / len(iterator), epoch_precision / len(\n",
    "        iterator), epoch_recall / len(iterator), epoch_f1 / len(iterator)"
   ]
  },
  {
   "cell_type": "code",
   "execution_count": null,
   "metadata": {
    "ExecuteTime": {
     "end_time": "2020-06-23T22:25:54.535141Z",
     "start_time": "2020-06-23T22:25:54.529158Z"
    },
    "colab": {},
    "colab_type": "code",
    "id": "Xs-n9Y5yiica"
   },
   "outputs": [],
   "source": [
    "import time\n",
    "\n",
    "def epoch_time(start_time, end_time):\n",
    "    elapsed_time = end_time - start_time\n",
    "    elapsed_mins = int(elapsed_time / 60)\n",
    "    elapsed_secs = int(elapsed_time - (elapsed_mins * 60))\n",
    "    return elapsed_mins, elapsed_secs"
   ]
  },
  {
   "cell_type": "markdown",
   "metadata": {
    "colab_type": "text",
    "id": "hy3MVf5H0A94"
   },
   "source": [
    "\n",
    "#### Entrenamiento de la red\n",
    "\n",
    "En este cuadro de código ejecutaremos el entrenamiento de la red.\n",
    "Para esto, primero definiremos el número de épocas y luego por cada época, ejecutaremos `train` y `evaluate`.\n",
    "\n",
    "**Importante: Reiniciar los pesos del modelo**\n",
    "\n",
    "Si ejecutas nuevamente esta celda, se seguira entrenando el mismo modelo una y otra vez. \n",
    "Para reiniciar el modelo se debe ejecutar nuevamente la celda que contiene la función `init_weights`\n",
    "\n"
   ]
  },
  {
   "cell_type": "code",
   "execution_count": null,
   "metadata": {
    "ExecuteTime": {
     "end_time": "2020-06-23T21:49:02.524817Z",
     "start_time": "2020-06-23T21:47:09.863026Z"
    },
    "colab": {
     "base_uri": "https://localhost:8080/",
     "height": 799
    },
    "colab_type": "code",
    "id": "iK5lQqpviicf",
    "outputId": "d68dadca-e233-4ed9-d7bd-6caa56752c41"
   },
   "outputs": [],
   "source": [
    "best_valid_loss = float('inf')\n",
    "\n",
    "for epoch in range(n_epochs):\n",
    "\n",
    "    start_time = time.time()\n",
    "\n",
    "    # Recuerdo: train_iterator y valid_iterator contienen el dataset dividido en batches.\n",
    "\n",
    "    # Entrenar\n",
    "    train_loss, train_precision, train_recall, train_f1 = train(\n",
    "        model, train_iterator, optimizer, criterion)\n",
    "\n",
    "    # Evaluar (valid = validación)\n",
    "    valid_loss, valid_precision, valid_recall, valid_f1 = evaluate(\n",
    "        model, valid_iterator, criterion)\n",
    "\n",
    "    end_time = time.time()\n",
    "\n",
    "    epoch_mins, epoch_secs = epoch_time(start_time, end_time)\n",
    "\n",
    "    # Si obtuvimos mejores resultados, guardamos este modelo en el almacenamiento (para poder cargarlo luego)\n",
    "    # Si detienen el entrenamiento prematuramente, pueden cargar el modelo en el siguiente recuadro de código.\n",
    "    if valid_loss < best_valid_loss:\n",
    "        best_valid_loss = valid_loss\n",
    "        torch.save(model.state_dict(), '{}.pt'.format(model_name))\n",
    "    # Si ya no mejoramos el loss de validación, terminamos de entrenar.\n",
    "\n",
    "    print(f'Epoch: {epoch+1:02} | Epoch Time: {epoch_mins}m {epoch_secs}s')\n",
    "    print(\n",
    "        f'\\tTrain Loss: {train_loss:.3f} | Train f1: {train_f1:.2f} | Train precision: {train_precision:.2f} | Train recall: {train_recall:.2f}'\n",
    "    )\n",
    "    print(\n",
    "        f'\\t Val. Loss: {valid_loss:.3f} |  Val. f1: {valid_f1:.2f} |  Val. precision: {valid_precision:.2f} | Val. recall: {valid_recall:.2f}'\n",
    "    )"
   ]
  },
  {
   "cell_type": "markdown",
   "metadata": {},
   "source": [
    "**Importante**: Recuerden que el último modelo entrenado no es el mejor (probablemente esté *overfitteado*), si no el que guardamos con la menor loss del conjunto de validación.\n",
    "Para cargar el mejor modelo entrenado, ejecuten la siguiente celda.\n",
    "\n",
    "Este problema lo pueden solucionar con *early stopping*."
   ]
  },
  {
   "cell_type": "code",
   "execution_count": null,
   "metadata": {
    "ExecuteTime": {
     "end_time": "2020-06-23T22:25:58.680706Z",
     "start_time": "2020-06-23T22:25:58.663725Z"
    },
    "colab": {
     "base_uri": "https://localhost:8080/",
     "height": 34
    },
    "colab_type": "code",
    "id": "y27CNYfrjtQ-",
    "outputId": "1c7e1c54-4588-4cb3-caa9-817f1aecea41"
   },
   "outputs": [],
   "source": [
    "# cargar el mejor modelo entrenado.\n",
    "model.load_state_dict(torch.load('{}.pt'.format(model_name)))"
   ]
  },
  {
   "cell_type": "code",
   "execution_count": null,
   "metadata": {
    "ExecuteTime": {
     "end_time": "2020-06-23T21:52:04.077979Z",
     "start_time": "2020-06-23T21:52:04.072991Z"
    }
   },
   "outputs": [],
   "source": [
    "# Limpiar ram de cuda\n",
    "torch.cuda.empty_cache()"
   ]
  },
  {
   "cell_type": "markdown",
   "metadata": {
    "colab_type": "text",
    "id": "kBctQHTh0lxD"
   },
   "source": [
    "#### Evaluamos el set de validación con el modelo final\n",
    "\n",
    "Estos son los resultados de predecir el dataset de evaluación con el *mejor* modelo entrenado."
   ]
  },
  {
   "cell_type": "code",
   "execution_count": null,
   "metadata": {
    "ExecuteTime": {
     "end_time": "2020-06-23T22:26:01.788742Z",
     "start_time": "2020-06-23T22:26:00.558829Z"
    },
    "colab": {
     "base_uri": "https://localhost:8080/",
     "height": 682
    },
    "colab_type": "code",
    "id": "s0gVbP8yiicj",
    "outputId": "1d8e0ec2-7833-48ce-eda5-ea64e703fb91"
   },
   "outputs": [],
   "source": [
    "valid_loss, valid_precision, valid_recall, valid_f1 = evaluate(\n",
    "    model, valid_iterator, criterion)\n",
    "\n",
    "print(\n",
    "    f'Val. Loss: {valid_loss:.3f} |  Val. f1: {valid_f1:.2f} | Val. precision: {valid_precision:.2f} | Val. recall: {valid_recall:.2f}'\n",
    ")"
   ]
  },
  {
   "cell_type": "markdown",
   "metadata": {
    "colab_type": "text",
    "id": "uF1ysw_Kw6zz"
   },
   "source": [
    "\n",
    "### Predecir datos para la competencia\n",
    "\n",
    "Ahora, a partir de los datos de **test** y nuestro modelo entrenado, predeciremos las etiquetas que serán evaluadas en la competencia."
   ]
  },
  {
   "cell_type": "code",
   "execution_count": null,
   "metadata": {
    "ExecuteTime": {
     "end_time": "2020-06-23T22:31:56.776563Z",
     "start_time": "2020-06-23T22:31:39.654525Z"
    },
    "colab": {},
    "colab_type": "code",
    "id": "1RBs3UU4wLk3"
   },
   "outputs": [],
   "source": [
    "def predict_labels(model, iterator, criterion, fields=fields):\n",
    "\n",
    "    # Extraemos los vocabularios.\n",
    "    text_field = fields[0][1]\n",
    "    nertags_field = fields[1][1]\n",
    "    tags_vocab = nertags_field.vocab.itos\n",
    "    words_vocab = text_field.vocab.itos\n",
    "\n",
    "    model.eval()\n",
    "\n",
    "    predictions = []\n",
    "\n",
    "    with torch.no_grad():\n",
    "\n",
    "        for batch in iterator:\n",
    "\n",
    "            text_batch = batch.text\n",
    "            text_batch = torch.transpose(text_batch, 0, 1).tolist()\n",
    "\n",
    "            # Predecir los tags de las sentences del batch\n",
    "            predictions_batch = model(batch.text)\n",
    "            predictions_batch = torch.transpose(predictions_batch, 0, 1)\n",
    "\n",
    "            # por cada oración predicha:\n",
    "            for sentence, sentence_prediction in zip(text_batch,\n",
    "                                                     predictions_batch):\n",
    "                for word_idx, word_predictions in zip(sentence,\n",
    "                                                      sentence_prediction):\n",
    "                    # Obtener el indice del tag con la probabilidad mas alta.\n",
    "                    argmax_index = word_predictions.topk(1)[1]\n",
    "\n",
    "                    current_tag = tags_vocab[argmax_index]\n",
    "                    # Obtenemos la palabra\n",
    "                    current_word = words_vocab[word_idx]\n",
    "\n",
    "                    if current_word != '<pad>':\n",
    "                        predictions.append([current_word, current_tag])\n",
    "\n",
    "\n",
    "    return predictions\n",
    "\n",
    "\n",
    "predictions = predict_labels(model, test_iterator, criterion)"
   ]
  },
  {
   "cell_type": "markdown",
   "metadata": {
    "colab_type": "text",
    "id": "YwQp1Ru8Oht8"
   },
   "source": [
    "### Generar el archivo para la submission\n",
    "\n",
    "No hay problema si aparecen unk en la salida. Estos no son relevantes para evaluarlos, usamos solo los tags."
   ]
  },
  {
   "cell_type": "code",
   "execution_count": null,
   "metadata": {
    "ExecuteTime": {
     "end_time": "2020-06-23T22:33:41.845955Z",
     "start_time": "2020-06-23T22:33:41.731717Z"
    },
    "colab": {},
    "colab_type": "code",
    "id": "RPfZkjJGkWyq"
   },
   "outputs": [],
   "source": [
    "import os, shutil\n",
    "\n",
    "if (os.path.isfile('./predictions.zip')):\n",
    "    os.remove('./predictions.zip')\n",
    "\n",
    "if (not os.path.isdir('./predictions')):\n",
    "    os.mkdir('./predictions')\n",
    "\n",
    "else:\n",
    "    # Eliminar predicciones anteriores:\n",
    "    shutil.rmtree('./predictions')\n",
    "    os.mkdir('./predictions')\n",
    "\n",
    "f = open('predictions/predictions.txt', 'w')\n",
    "for word, tag in predictions:\n",
    "    f.write(word + ' ' + tag + '\\n')\n",
    "f.write('\\n')\n",
    "f.close()\n",
    "\n",
    "a = shutil.make_archive('predictions', 'zip', './predictions')"
   ]
  },
  {
   "cell_type": "code",
   "execution_count": null,
   "metadata": {
    "ExecuteTime": {
     "end_time": "2020-06-23T21:49:19.575711Z",
     "start_time": "2020-06-23T21:49:19.100486Z"
    },
    "colab": {},
    "colab_type": "code",
    "id": "k2PqvJAmTFWR"
   },
   "outputs": [],
   "source": [
    "# A veces no funciona a la primera. Ejecutar mas de una vez para obtener el archivo...\n",
    "from google.colab import files\n",
    "files.download('predictions.zip')  "
   ]
  },
  {
   "cell_type": "markdown",
   "metadata": {
    "colab_type": "text",
    "id": "LZEWJXrNaSIf"
   },
   "source": [
    "## Conclusiones\n",
    "\n",
    "\n",
    "\n",
    "..."
   ]
  }
 ],
 "metadata": {
  "accelerator": "GPU",
  "colab": {
   "collapsed_sections": [],
   "name": "Tarea_2.ipynb",
   "provenance": []
  },
  "kernelspec": {
   "display_name": "Python 3",
   "language": "python",
   "name": "python3"
  },
  "language_info": {
   "codemirror_mode": {
    "name": "ipython",
    "version": 3
   },
   "file_extension": ".py",
   "mimetype": "text/x-python",
   "name": "python",
   "nbconvert_exporter": "python",
   "pygments_lexer": "ipython3",
   "version": "3.8.3"
  },
  "toc": {
   "base_numbering": 1,
   "nav_menu": {},
   "number_sections": true,
   "sideBar": true,
   "skip_h1_title": true,
   "title_cell": "Table of Contents",
   "title_sidebar": "Contents",
   "toc_cell": false,
   "toc_position": {},
   "toc_section_display": true,
   "toc_window_display": true
  },
  "varInspector": {
   "cols": {
    "lenName": 16,
    "lenType": 16,
    "lenVar": 40
   },
   "kernels_config": {
    "python": {
     "delete_cmd_postfix": "",
     "delete_cmd_prefix": "del ",
     "library": "var_list.py",
     "varRefreshCmd": "print(var_dic_list())"
    },
    "r": {
     "delete_cmd_postfix": ") ",
     "delete_cmd_prefix": "rm(",
     "library": "var_list.r",
     "varRefreshCmd": "cat(var_dic_list()) "
    }
   },
   "types_to_exclude": [
    "module",
    "function",
    "builtin_function_or_method",
    "instance",
    "_Feature"
   ],
   "window_display": false
  }
 },
 "nbformat": 4,
 "nbformat_minor": 1
}
